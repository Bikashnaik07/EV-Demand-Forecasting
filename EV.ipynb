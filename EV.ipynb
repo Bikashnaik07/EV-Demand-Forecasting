{
  "nbformat": 4,
  "nbformat_minor": 0,
  "metadata": {
    "colab": {
      "provenance": []
    },
    "kernelspec": {
      "name": "python3",
      "display_name": "Python 3"
    },
    "language_info": {
      "name": "python"
    }
  },
  "cells": [
    {
      "cell_type": "code",
      "execution_count": 4,
      "metadata": {
        "id": "eln-_4bgbfEX"
      },
      "outputs": [],
      "source": [
        "#EV Vehicle/Charging Demand Prediction Project\n",
        "# Electric Vehicle Adoption Forecasting for Washington State\n",
        "\n",
        "# ================================\n",
        "# 1. SETUP AND LIBRARY IMPORTS\n",
        "# ================================"
      ]
    },
    {
      "cell_type": "code",
      "source": [
        "# Install required libraries\n",
        "!pip install kaggle pandas numpy matplotlib seaborn scikit-learn plotly\n",
        "\n",
        "# Import necessary libraries\n",
        "import pandas as pd\n",
        "import numpy as np\n",
        "import matplotlib.pyplot as plt\n",
        "import seaborn as sns\n",
        "import plotly.express as px\n",
        "import plotly.graph_objects as go\n",
        "from datetime import datetime, timedelta\n",
        "import warnings\n",
        "warnings.filterwarnings('ignore')\n",
        "\n",
        "# Machine Learning libraries\n",
        "from sklearn.model_selection import train_test_split\n",
        "from sklearn.linear_model import LinearRegression\n",
        "from sklearn.ensemble import RandomForestRegressor\n",
        "from sklearn.metrics import mean_squared_error, r2_score, mean_absolute_error\n",
        "from sklearn.preprocessing import StandardScaler\n",
        "from sklearn.pipeline import Pipeline"
      ],
      "metadata": {
        "colab": {
          "base_uri": "https://localhost:8080/"
        },
        "id": "BofLikvAOEVI",
        "outputId": "6d5d24fa-e108-460f-a1ab-bd97c8a9234e"
      },
      "execution_count": 5,
      "outputs": [
        {
          "output_type": "stream",
          "name": "stdout",
          "text": [
            "Requirement already satisfied: kaggle in /usr/local/lib/python3.11/dist-packages (1.7.4.5)\n",
            "Requirement already satisfied: pandas in /usr/local/lib/python3.11/dist-packages (2.2.2)\n",
            "Requirement already satisfied: numpy in /usr/local/lib/python3.11/dist-packages (2.0.2)\n",
            "Requirement already satisfied: matplotlib in /usr/local/lib/python3.11/dist-packages (3.10.0)\n",
            "Requirement already satisfied: seaborn in /usr/local/lib/python3.11/dist-packages (0.13.2)\n",
            "Requirement already satisfied: scikit-learn in /usr/local/lib/python3.11/dist-packages (1.6.1)\n",
            "Requirement already satisfied: plotly in /usr/local/lib/python3.11/dist-packages (5.24.1)\n",
            "Requirement already satisfied: bleach in /usr/local/lib/python3.11/dist-packages (from kaggle) (6.2.0)\n",
            "Requirement already satisfied: certifi>=14.05.14 in /usr/local/lib/python3.11/dist-packages (from kaggle) (2025.7.14)\n",
            "Requirement already satisfied: charset-normalizer in /usr/local/lib/python3.11/dist-packages (from kaggle) (3.4.2)\n",
            "Requirement already satisfied: idna in /usr/local/lib/python3.11/dist-packages (from kaggle) (3.10)\n",
            "Requirement already satisfied: protobuf in /usr/local/lib/python3.11/dist-packages (from kaggle) (5.29.5)\n",
            "Requirement already satisfied: python-dateutil>=2.5.3 in /usr/local/lib/python3.11/dist-packages (from kaggle) (2.9.0.post0)\n",
            "Requirement already satisfied: python-slugify in /usr/local/lib/python3.11/dist-packages (from kaggle) (8.0.4)\n",
            "Requirement already satisfied: requests in /usr/local/lib/python3.11/dist-packages (from kaggle) (2.32.3)\n",
            "Requirement already satisfied: setuptools>=21.0.0 in /usr/local/lib/python3.11/dist-packages (from kaggle) (75.2.0)\n",
            "Requirement already satisfied: six>=1.10 in /usr/local/lib/python3.11/dist-packages (from kaggle) (1.17.0)\n",
            "Requirement already satisfied: text-unidecode in /usr/local/lib/python3.11/dist-packages (from kaggle) (1.3)\n",
            "Requirement already satisfied: tqdm in /usr/local/lib/python3.11/dist-packages (from kaggle) (4.67.1)\n",
            "Requirement already satisfied: urllib3>=1.15.1 in /usr/local/lib/python3.11/dist-packages (from kaggle) (2.4.0)\n",
            "Requirement already satisfied: webencodings in /usr/local/lib/python3.11/dist-packages (from kaggle) (0.5.1)\n",
            "Requirement already satisfied: pytz>=2020.1 in /usr/local/lib/python3.11/dist-packages (from pandas) (2025.2)\n",
            "Requirement already satisfied: tzdata>=2022.7 in /usr/local/lib/python3.11/dist-packages (from pandas) (2025.2)\n",
            "Requirement already satisfied: contourpy>=1.0.1 in /usr/local/lib/python3.11/dist-packages (from matplotlib) (1.3.2)\n",
            "Requirement already satisfied: cycler>=0.10 in /usr/local/lib/python3.11/dist-packages (from matplotlib) (0.12.1)\n",
            "Requirement already satisfied: fonttools>=4.22.0 in /usr/local/lib/python3.11/dist-packages (from matplotlib) (4.58.5)\n",
            "Requirement already satisfied: kiwisolver>=1.3.1 in /usr/local/lib/python3.11/dist-packages (from matplotlib) (1.4.8)\n",
            "Requirement already satisfied: packaging>=20.0 in /usr/local/lib/python3.11/dist-packages (from matplotlib) (24.2)\n",
            "Requirement already satisfied: pillow>=8 in /usr/local/lib/python3.11/dist-packages (from matplotlib) (11.2.1)\n",
            "Requirement already satisfied: pyparsing>=2.3.1 in /usr/local/lib/python3.11/dist-packages (from matplotlib) (3.2.3)\n",
            "Requirement already satisfied: scipy>=1.6.0 in /usr/local/lib/python3.11/dist-packages (from scikit-learn) (1.15.3)\n",
            "Requirement already satisfied: joblib>=1.2.0 in /usr/local/lib/python3.11/dist-packages (from scikit-learn) (1.5.1)\n",
            "Requirement already satisfied: threadpoolctl>=3.1.0 in /usr/local/lib/python3.11/dist-packages (from scikit-learn) (3.6.0)\n",
            "Requirement already satisfied: tenacity>=6.2.0 in /usr/local/lib/python3.11/dist-packages (from plotly) (8.5.0)\n"
          ]
        }
      ]
    },
    {
      "cell_type": "code",
      "source": [
        "# Set up plotting style\n",
        "plt.style.use('seaborn-v0_8')\n",
        "sns.set_palette(\"husl\")\n",
        "\n",
        "print(\"Libraries imported successfully!\")"
      ],
      "metadata": {
        "colab": {
          "base_uri": "https://localhost:8080/"
        },
        "id": "bd9loQBLONTR",
        "outputId": "97d86e7c-ed51-41ed-d680-9e6f9fbe6d63"
      },
      "execution_count": 6,
      "outputs": [
        {
          "output_type": "stream",
          "name": "stdout",
          "text": [
            "Libraries imported successfully!\n"
          ]
        }
      ]
    },
    {
      "cell_type": "code",
      "source": [
        "# ================================\n",
        "# 2. DATA LOADING AND EXPLORATION\n",
        "# ================================"
      ],
      "metadata": {
        "id": "pvyA6mKrOVOT"
      },
      "execution_count": 7,
      "outputs": []
    },
    {
      "cell_type": "code",
      "source": [
        "# Mount Google Drive\n",
        "from google.colab import drive\n",
        "drive.mount('/content/drive')"
      ],
      "metadata": {
        "colab": {
          "base_uri": "https://localhost:8080/"
        },
        "id": "cjhtrrt6OaOE",
        "outputId": "31d92d93-b17d-4bcb-b80b-24832515d883"
      },
      "execution_count": 8,
      "outputs": [
        {
          "output_type": "stream",
          "name": "stdout",
          "text": [
            "Mounted at /content/drive\n"
          ]
        }
      ]
    },
    {
      "cell_type": "code",
      "source": [
        "# Load the dataset from Google Drive\n",
        "df = pd.read_csv('/content/drive/MyDrive/Electric_Vehicle_Population_Size_History_By_County_.csv')\n",
        "df['Date'] = pd.to_datetime(df['Date'])\n",
        "\n",
        "print(\"Dataset loaded successfully!\")\n",
        "print(f\"Dataset shape: {df.shape}\")\n",
        "print(f\"Date range: {df['Date'].min()} to {df['Date'].max()}\")\n"
      ],
      "metadata": {
        "colab": {
          "base_uri": "https://localhost:8080/"
        },
        "id": "zX3i99MuOmlG",
        "outputId": "73bbf08f-c97b-4fad-9896-138d04d890cb"
      },
      "execution_count": 40,
      "outputs": [
        {
          "output_type": "stream",
          "name": "stdout",
          "text": [
            "Dataset loaded successfully!\n",
            "Dataset shape: (20819, 10)\n",
            "Date range: 2017-01-31 00:00:00 to 2024-02-29 00:00:00\n"
          ]
        }
      ]
    },
    {
      "cell_type": "code",
      "source": [
        "# Display basic information about the dataset\n",
        "print(\"\\n\" + \"=\"*50)\n",
        "print(\"DATASET OVERVIEW\")\n",
        "print(\"=\"*50)\n",
        "df.info()\n",
        "\n",
        "print(\"\\n\" + \"=\"*50)\n",
        "print(\"FIRST 5 ROWS\")\n",
        "print(\"=\"*50)\n",
        "print(df.head())\n",
        "\n",
        "print(\"\\n\" + \"=\"*50)\n",
        "print(\"STATISTICAL SUMMARY\")\n",
        "print(\"=\"*50)\n",
        "print(df.describe())"
      ],
      "metadata": {
        "colab": {
          "base_uri": "https://localhost:8080/"
        },
        "id": "m1sLkvRAOo6n",
        "outputId": "2f102ee4-c357-4408-dd73-f2906a056b4b"
      },
      "execution_count": 10,
      "outputs": [
        {
          "output_type": "stream",
          "name": "stdout",
          "text": [
            "\n",
            "==================================================\n",
            "DATASET OVERVIEW\n",
            "==================================================\n",
            "<class 'pandas.core.frame.DataFrame'>\n",
            "RangeIndex: 20819 entries, 0 to 20818\n",
            "Data columns (total 10 columns):\n",
            " #   Column                                    Non-Null Count  Dtype  \n",
            "---  ------                                    --------------  -----  \n",
            " 0   Date                                      20819 non-null  object \n",
            " 1   County                                    20733 non-null  object \n",
            " 2   State                                     20733 non-null  object \n",
            " 3   Vehicle Primary Use                       20819 non-null  object \n",
            " 4   Battery Electric Vehicles (BEVs)          20819 non-null  object \n",
            " 5   Plug-In Hybrid Electric Vehicles (PHEVs)  20819 non-null  object \n",
            " 6   Electric Vehicle (EV) Total               20819 non-null  object \n",
            " 7   Non-Electric Vehicle Total                20819 non-null  object \n",
            " 8   Total Vehicles                            20819 non-null  object \n",
            " 9   Percent Electric Vehicles                 20819 non-null  float64\n",
            "dtypes: float64(1), object(9)\n",
            "memory usage: 1.6+ MB\n",
            "\n",
            "==================================================\n",
            "FIRST 5 ROWS\n",
            "==================================================\n",
            "                Date          County State Vehicle Primary Use  \\\n",
            "0  September 30 2022       Riverside    CA           Passenger   \n",
            "1   December 31 2022  Prince William    VA           Passenger   \n",
            "2    January 31 2020          Dakota    MN           Passenger   \n",
            "3       June 30 2022           Ferry    WA               Truck   \n",
            "4       July 31 2021         Douglas    CO           Passenger   \n",
            "\n",
            "  Battery Electric Vehicles (BEVs) Plug-In Hybrid Electric Vehicles (PHEVs)  \\\n",
            "0                                7                                        0   \n",
            "1                                1                                        2   \n",
            "2                                0                                        1   \n",
            "3                                0                                        0   \n",
            "4                                0                                        1   \n",
            "\n",
            "  Electric Vehicle (EV) Total Non-Electric Vehicle Total Total Vehicles  \\\n",
            "0                           7                        460            467   \n",
            "1                           3                        188            191   \n",
            "2                           1                         32             33   \n",
            "3                           0                      3,575          3,575   \n",
            "4                           1                         83             84   \n",
            "\n",
            "   Percent Electric Vehicles  \n",
            "0                       1.50  \n",
            "1                       1.57  \n",
            "2                       3.03  \n",
            "3                       0.00  \n",
            "4                       1.19  \n",
            "\n",
            "==================================================\n",
            "STATISTICAL SUMMARY\n",
            "==================================================\n",
            "       Percent Electric Vehicles\n",
            "count               20819.000000\n",
            "mean                    4.139216\n",
            "std                    11.055350\n",
            "min                     0.000000\n",
            "25%                     0.390000\n",
            "50%                     1.220000\n",
            "75%                     2.995000\n",
            "max                   100.000000\n"
          ]
        }
      ]
    },
    {
      "cell_type": "code",
      "source": [
        "# ================================\n",
        "# 3. DATA PREPROCESSING\n",
        "# ================================"
      ],
      "metadata": {
        "id": "cDD2M6ZkOuKt"
      },
      "execution_count": 11,
      "outputs": []
    },
    {
      "cell_type": "code",
      "source": [
        "print(\"\\n\" + \"=\"*50)\n",
        "print(\"DATA PREPROCESSING\")\n",
        "print(\"=\"*50)\n",
        "\n",
        "# Convert 'Date' column to datetime format\n",
        "df['Date'] = pd.to_datetime(df['Date'], errors='coerce')\n",
        "\n",
        "# Show missing values\n",
        "print(\"\\nMissing values per column before filling:\")\n",
        "print(df.isnull().sum())\n",
        "\n",
        "# Fill missing values with 0\n",
        "df.fillna(0, inplace=True)\n",
        "\n",
        "# Create new time-based columns\n",
        "df['Year'] = df['Date'].dt.year\n",
        "df['Month'] = df['Date'].dt.month\n",
        "df['Quarter'] = df['Date'].dt.quarter\n",
        "\n",
        "# Ensure vehicle count columns are numeric\n",
        "df['Electric Vehicle (EV) Total'] = pd.to_numeric(df['Electric Vehicle (EV) Total'], errors='coerce').fillna(0)\n",
        "df['Total Vehicles'] = pd.to_numeric(df['Total Vehicles'], errors='coerce').fillna(0)\n",
        "\n",
        "# Calculate EV Penetration Rate (in percentage)\n",
        "df['EV_Penetration_Rate'] = (df['Electric Vehicle (EV) Total'] / df['Total Vehicles']) * 100\n",
        "\n",
        "# Sort the DataFrame by date for time series analysis\n",
        "df.sort_values('Date', inplace=True)\n",
        "\n",
        "# Final confirmation\n",
        "print(\"\\nData preprocessing completed successfully!\")\n",
        "print(f\"Date range       : {df['Date'].min().date()} to {df['Date'].max().date()}\")\n",
        "print(f\"Number of counties: {df['County'].nunique()}\")\n",
        "print(f\"Vehicle use types : {df['Vehicle Primary Use'].unique()}\")"
      ],
      "metadata": {
        "colab": {
          "base_uri": "https://localhost:8080/"
        },
        "id": "LA2ecOv6O5F-",
        "outputId": "93ca9724-f53c-4762-8aa8-4c11a6507e21"
      },
      "execution_count": 41,
      "outputs": [
        {
          "output_type": "stream",
          "name": "stdout",
          "text": [
            "\n",
            "==================================================\n",
            "DATA PREPROCESSING\n",
            "==================================================\n",
            "\n",
            "Missing values per column before filling:\n",
            "Date                                         0\n",
            "County                                      86\n",
            "State                                       86\n",
            "Vehicle Primary Use                          0\n",
            "Battery Electric Vehicles (BEVs)             0\n",
            "Plug-In Hybrid Electric Vehicles (PHEVs)     0\n",
            "Electric Vehicle (EV) Total                  0\n",
            "Non-Electric Vehicle Total                   0\n",
            "Total Vehicles                               0\n",
            "Percent Electric Vehicles                    0\n",
            "dtype: int64\n",
            "\n",
            "Data preprocessing completed successfully!\n",
            "Date range       : 2017-01-31 to 2024-02-29\n",
            "Number of counties: 312\n",
            "Vehicle use types : ['Passenger' 'Truck']\n"
          ]
        }
      ]
    },
    {
      "cell_type": "code",
      "source": [
        "# Create aggregated data for state-level analysis\n",
        "state_monthly = df.groupby(['Date', 'Year', 'Month']).agg({\n",
        "    'Battery Electric Vehicles (BEVs)': 'sum',\n",
        "    'Plug-In Hybrid Electric Vehicles (PHEVs)': 'sum',\n",
        "    'Electric Vehicle (EV) Total': 'sum',\n",
        "    'Non-Electric Vehicle Total': 'sum',\n",
        "    'Total Vehicles': 'sum'\n",
        "}).reset_index()\n",
        "\n",
        "# Recalculate EV Penetration Rate\n",
        "state_monthly['EV_Penetration_Rate'] = (state_monthly['Electric Vehicle (EV) Total'] /\n",
        "                                        state_monthly['Total Vehicles']) * 100"
      ],
      "metadata": {
        "id": "Axbfwgy9RBBE"
      },
      "execution_count": 16,
      "outputs": []
    },
    {
      "cell_type": "code",
      "source": [
        "import matplotlib.ticker as mtick\n",
        "\n",
        "plt.figure(figsize=(7, 4))\n",
        "plt.plot(state_monthly['Date'], state_monthly['Electric Vehicle (EV) Total'],\n",
        "         marker='o', linewidth=2, markersize=3, color='mediumblue', alpha=0.8)\n",
        "\n",
        "plt.title('Total EV Adoption Over Time in Washington State', fontsize=16, fontweight='bold')\n",
        "plt.xlabel('Date', fontsize=12)\n",
        "plt.ylabel('Number of EVs', fontsize=12)\n",
        "plt.grid(True, alpha=0.3)\n",
        "plt.xticks(rotation=45)\n",
        "plt.gca().yaxis.set_major_formatter(mtick.FuncFormatter(lambda x, _: f'{int(x):,}'))  # Adds commas to y-axis\n",
        "plt.tight_layout()\n",
        "plt.show()"
      ],
      "metadata": {
        "colab": {
          "base_uri": "https://localhost:8080/",
          "height": 407
        },
        "id": "DEp17-c3RS3K",
        "outputId": "a2064afd-1eb8-4707-e22c-8f34108ed07e"
      },
      "execution_count": 21,
      "outputs": [
        {
          "output_type": "display_data",
          "data": {
            "text/plain": [
              "<Figure size 700x400 with 1 Axes>"
            ],
            "image/png": "[encoded data removed]"
          },
          "metadata": {}
        }
      ]
    },
    {
      "cell_type": "code",
      "source": [
        "# First: Remove commas and whitespace, then convert to numeric\n",
        "state_monthly['Battery Electric Vehicles (BEVs)'] = pd.to_numeric(\n",
        "    state_monthly['Battery Electric Vehicles (BEVs)'].astype(str).str.replace(',', '').str.strip(),\n",
        "    errors='coerce'\n",
        ")\n",
        "\n",
        "state_monthly['Plug-In Hybrid Electric Vehicles (PHEVs)'] = pd.to_numeric(\n",
        "    state_monthly['Plug-In Hybrid Electric Vehicles (PHEVs)'].astype(str).str.replace(',', '').str.strip(),\n",
        "    errors='coerce'\n",
        ")\n",
        "\n",
        "# Optional: Check what we got\n",
        "print(\"BEV unique:\", state_monthly['Battery Electric Vehicles (BEVs)'].unique())\n",
        "print(\"PHEV unique:\", state_monthly['Plug-In Hybrid Electric Vehicles (PHEVs)'].unique())\n",
        "\n",
        "# Now drop rows with missing values in these columns\n",
        "state_monthly = state_monthly.dropna(\n",
        "    subset=['Battery Electric Vehicles (BEVs)', 'Plug-In Hybrid Electric Vehicles (PHEVs)']\n",
        ")"
      ],
      "metadata": {
        "colab": {
          "base_uri": "https://localhost:8080/"
        },
        "id": "mV0OvBGch7II",
        "outputId": "1a58402b-6597-4477-88a6-072d18826d3e"
      },
      "execution_count": 54,
      "outputs": [
        {
          "output_type": "stream",
          "name": "stdout",
          "text": [
            "BEV unique: []\n",
            "PHEV unique: []\n"
          ]
        }
      ]
    },
    {
      "cell_type": "code",
      "source": [
        "print(df[['Battery Electric Vehicles (BEVs)', 'Plug-In Hybrid Electric Vehicles (PHEVs)']].head(10))"
      ],
      "metadata": {
        "colab": {
          "base_uri": "https://localhost:8080/"
        },
        "id": "s_xWW4A5iLcF",
        "outputId": "468080c7-e11c-4b8f-8782-9e13b7954cd6"
      },
      "execution_count": 55,
      "outputs": [
        {
          "output_type": "stream",
          "name": "stdout",
          "text": [
            "      Battery Electric Vehicles (BEVs)  \\\n",
            "8970                                 1   \n",
            "3493                                 1   \n",
            "20411                                0   \n",
            "7518                                 0   \n",
            "10779                              822   \n",
            "4356                                 2   \n",
            "2275                                 1   \n",
            "16608                                0   \n",
            "19651                                1   \n",
            "5236                                 0   \n",
            "\n",
            "      Plug-In Hybrid Electric Vehicles (PHEVs)  \n",
            "8970                                         0  \n",
            "3493                                         0  \n",
            "20411                                        1  \n",
            "7518                                         0  \n",
            "10779                                      751  \n",
            "4356                                         0  \n",
            "2275                                         0  \n",
            "16608                                        1  \n",
            "19651                                        1  \n",
            "5236                                         0  \n"
          ]
        }
      ]
    },
    {
      "cell_type": "code",
      "source": [
        "print(\"BEV unique:\", df['Battery Electric Vehicles (BEVs)'].unique())\n",
        "print(\"PHEV unique:\", df['Plug-In Hybrid Electric Vehicles (PHEVs)'].unique())"
      ],
      "metadata": {
        "colab": {
          "base_uri": "https://localhost:8080/"
        },
        "id": "HlxoUvBmiSn1",
        "outputId": "7c6447e5-6fa3-4d58-9747-615b237997c0"
      },
      "execution_count": 56,
      "outputs": [
        {
          "output_type": "stream",
          "name": "stdout",
          "text": [
            "BEV unique: ['1' '0' '822' ... '691' '3,002' '3,016']\n",
            "PHEV unique: ['0' '1' '751' '3' '196' '7' '32' '31' '2' '28' '803' '4' '21' '24' '119'\n",
            " '44' '22' '6' '426' '19' '64' '299' '81' '141' '3,620' '15' '53' '42'\n",
            " '262' '58' '129' '49' '16' '61' '824' '122' '46' '86' '55' '146' '3,712'\n",
            " '33' '434' '18' '50' '309' '778' '133' '280' '29' '36' '202' '48' '130'\n",
            " '47' '91' '3,786' '26' '20' '848' '289' '34' '30' '23' '65' '57' '454'\n",
            " '313' '784' '139' '156' '63' '8' '471' '56' '298' '140' '62' '54' '860'\n",
            " '17' '208' '97' '35' '807' '319' '159' '68' '3,881' '25' '142' '38' '74'\n",
            " '167' '823' '866' '302' '5' '334' '489' '102' '3,989' '59' '211' '60'\n",
            " '27' '137' '37' '902' '175' '40' '842' '4,102' '76' '103' '45' '66' '143'\n",
            " '336' '504' '39' '517' '104' '324' '77' '69' '9' '350' '4,172' '179'\n",
            " '213' '919' '148' '856' '112' '4,265' '71' '150' '182' '359' '67' '941'\n",
            " '220' '79' '528' '147' '363' '190' '4,348' '898' '974' '346' '542' '229'\n",
            " '83' '120' '998' '355' '155' '126' '41' '72' '10' '154' '4,481' '559'\n",
            " '371' '916' '238' '85' '558' '239' '160' '131' '380' '157' '214' '11'\n",
            " '70' '367' '942' '4,613' '73' '1,018' '43' '138' '75' '377' '4,683' '168'\n",
            " '240' '13' '963' '227' '573' '166' '1,050' '391' '407' '996' '402' '51'\n",
            " '80' '255' '95' '599' '4,877' '1,093' '249' '1,118' '78' '172' '5,018'\n",
            " '616' '418' '101' '1,028' '263' '414' '145' '432' '641' '260' '5,151'\n",
            " '88' '273' '187' '428' '1,053' '1,158' '1,193' '105' '178' '188' '84'\n",
            " '441' '657' '288' '52' '1,091' '444' '269' '5,289' '453' '163' '1,125'\n",
            " '467' '110' '281' '5,479' '1,222' '696' '195' '90' '1,173' '316' '719'\n",
            " '301' '480' '5,677' '189' '199' '460' '1,261' '93' '1,194' '5,801' '171'\n",
            " '744' '1,294' '99' '320' '197' '473' '111' '318' '496' '765' '198'\n",
            " '1,310' '92' '205' '1,224' '488' '169' '5,937' '115' '516' '321' '209'\n",
            " '6,078' '1,329' '98' '1,267' '526' '499' '344' '176' '217' '12' '106'\n",
            " '352' '1,305' '1,378' '814' '551' '507' '340' '96' '180' '6,220' '830'\n",
            " '566' '6,397' '522' '225' '1,339' '108' '354' '14' '121' '184' '224'\n",
            " '1,415' '358' '571' '6,529' '235' '544' '370' '1,437' '373' '124' '1,373'\n",
            " '94' '226' '841' '1,488' '6,677' '128' '100' '1,423' '186' '868' '556'\n",
            " '230' '243' '113' '589' '374' '232' '1,498' '6,761' '127' '245' '593'\n",
            " '1,428' '379' '386' '385' '569' '1,456' '597' '6,778' '1,519' '393' '251'\n",
            " '882' '118' '132' '116' '612' '6,870' '242' '1,539' '1,485' '897' '575'\n",
            " '6,947' '629' '914' '272' '107' '1,572' '422' '412' '200' '588' '7,012'\n",
            " '605' '279' '927' '1,555' '427' '433' '638' '241' '1,593' '651' '435'\n",
            " '7,111' '1,569' '1,616' '625' '244' '210' '945' '144' '436' '660' '633'\n",
            " '450' '125' '960' '1,583' '439' '291' '1,639' '7,201' '297' '7,281' '445'\n",
            " '151' '671' '89' '983' '1,660' '250' '1,601' '464' '1,682' '645' '685'\n",
            " '1,628' '1,017' '7,390' '470' '114' '153' '252' '649' '1,026' '1,705'\n",
            " '699' '308' '1,634' '7,455' '7,541' '1,708' '652' '254' '700' '1,044'\n",
            " '134' '477' '1,650' '7,618' '1,717' '718' '1,055' '486' '656' '1,678'\n",
            " '315' '258' '215' '661' '264' '724' '82' '1,728' '7,673' '1,059' '469'\n",
            " '1,683' '109' '1,756' '270' '216' '7,718' '1,061' '490' '727' '674'\n",
            " '1,691' '1,680' '729' '271' '7,694' '1,056' '1,750' '676' '165' '135'\n",
            " '678' '1,674' '1,747' '479' '7,686' '732' '117' '1,058' '7,710' '221'\n",
            " '498' '686' '735' '1,764' '223' '1,774' '743' '1,696' '1,066' '7,754'\n",
            " '222' '1,703' '1,076' '698' '274' '322' '512' '7,812' '1,781' '1,709'\n",
            " '7,893' '712' '173' '525' '1,806' '752' '329' '1,098' '228' '1,121' '760'\n",
            " '231' '339' '524' '285' '1,814' '8,010' '531' '1,739' '348' '1,140'\n",
            " '1,755' '534' '8,081' '762' '1,821' '736' '779' '1,180' '755' '550'\n",
            " '1,770' '290' '547' '1,846' '185' '8,169' '795' '8,322' '1,789' '294'\n",
            " '764' '1,874' '564' '1,211' '87' '247' '8,446' '1,809' '810' '776' '560'\n",
            " '1,245' '362' '572' '1,892' '296' '799' '136' '1,844' '174' '576' '369'\n",
            " '8,565' '1,929' '123' '1,276' '584' '582' '611' '1,965' '833' '8,751'\n",
            " '812' '268' '206' '1,902' '181' '310' '851' '831' '1,940' '1,367' '8,920'\n",
            " '265' '2,000' '596' '624' '9,165' '602' '1,422' '871' '647' '317' '857'\n",
            " '394' '2,046' '1,996' '869' '397' '891' '183' '618' '2,014' '9,347' '654'\n",
            " '161' '2,098' '1,457' '9,549' '886' '684' '152' '2,135' '409' '628' '287'\n",
            " '1,471' '905' '2,027' '2,065' '703' '907' '2,162' '9,685' '149' '164'\n",
            " '1,484' '2,195' '646' '1,512' '191' '333' '2,080' '295' '9,910' '920'\n",
            " '10,085' '2,227' '948' '342' '748' '2,106' '1,534' '939' '758' '2,233'\n",
            " '1,560' '2,122' '194' '956' '673' '10,217' '158' '307' '10,398' '972'\n",
            " '177' '2,149' '766' '968' '1,570' '2,276' '10,518' '989' '1,598' '2,310'\n",
            " '980' '2,173' '451' '695' '2,361' '326' '1,654' '999' '2,230' '207'\n",
            " '1,004' '10,699' '717' '446' '10,819' '1,014' '328' '366' '1,019' '2,417'\n",
            " '2,259' '332' '1,027' '2,472' '1,734' '455' '372' '11,043' '1,030' '832'\n",
            " '2,286' '378' '737' '1,780' '2,306' '2,525' '11,306' '461' '337' '462'\n",
            " '1,063' '864' '246' '345' '1,072' '219' '162' '2,562' '2,334' '754'\n",
            " '11,439' '11,629' '1,851' '1,084' '472' '881' '2,592' '204' '2,395'\n",
            " '1,109' '381' '481' '2,425' '2,621' '770' '11,776' '1,886' '349' '1,100'\n",
            " '889' '256' '1,124' '388' '2,444' '11,906' '1,108' '1,922' '910' '2,667'\n",
            " '1,976' '1,132' '1,114' '12,035' '2,713' '261' '218' '798' '915' '492'\n",
            " '356' '170' '500' '1,144' '932' '2,025' '12,236' '2,760' '2,508' '1,159'\n",
            " '236' '1,143' '2,072' '193' '12,503' '267' '2,789' '365' '2,545' '820'\n",
            " '401' '952' '12,802' '2,837' '1,152' '982' '520' '2,580' '1,168' '2,105'\n",
            " '1,198' '13,150' '837' '276' '2,160' '1,177' '2,627' '421' '2,893' '383'\n",
            " '1,005' '549' '2,673' '859' '1,195' '1,229' '2,929' '13,758' '1,033'\n",
            " '2,217' '389' '253' '423' '14,208' '2,990' '248' '1,251' '282' '561'\n",
            " '431' '2,715' '404' '2,287' '1,212' '257' '14,686' '880' '1,238' '2,792'\n",
            " '2,338' '1,292' '3,066' '3,142' '578' '1,141' '904' '14,949' '1,316'\n",
            " '1,256' '2,385' '2,838' '933' '2,908' '3,227' '592' '2,435' '1,283'\n",
            " '1,191' '1,359' '15,387' '300' '303' '2,979' '3,314' '1,241' '275'\n",
            " '1,306' '448' '15,766' '2,499' '1,408' '463' '234' '237' '2,530' '3,394'\n",
            " '456' '985' '3,070' '1,429' '630' '1,324' '284' '16,120' '1,300' '3,121'\n",
            " '468' '2,596' '1,464' '1,365' '312' '3,486' '16,311' '1,013' '1,341'\n",
            " '16,519' '1,505' '212' '1,391' '3,191' '1,403' '3,552' '478' '2,626'\n",
            " '1,040' '3,638' '17,194' '1,509' '3,230' '1,442' '484' '278' '2,665'\n",
            " '17,501' '483' '1,530' '1,418' '306' '2,707' '3,241' '259' '3,679' '325'\n",
            " '1,450' '1,065']\n"
          ]
        }
      ]
    },
    {
      "cell_type": "code",
      "source": [
        "# Remove commas and convert to integers\n",
        "df['Battery Electric Vehicles (BEVs)'] = df['Battery Electric Vehicles (BEVs)'].str.replace(',', '').astype(int)\n",
        "df['Plug-In Hybrid Electric Vehicles (PHEVs)'] = df['Plug-In Hybrid Electric Vehicles (PHEVs)'].str.replace(',', '').astype(int)"
      ],
      "metadata": {
        "id": "ydD_4tJjie3O"
      },
      "execution_count": 57,
      "outputs": []
    },
    {
      "cell_type": "code",
      "source": [
        "print(df['Battery Electric Vehicles (BEVs)'].unique()[:10])  # First 10 unique values\n",
        "print(df['Battery Electric Vehicles (BEVs)'].dtype)          # Should be int"
      ],
      "metadata": {
        "colab": {
          "base_uri": "https://localhost:8080/"
        },
        "id": "TwtIeNbAijdh",
        "outputId": "195af699-81de-464b-e144-e63f661e349b"
      },
      "execution_count": 58,
      "outputs": [
        {
          "output_type": "stream",
          "name": "stdout",
          "text": [
            "[  1   0 822   2   4 221   7  43  84   3]\n",
            "int64\n"
          ]
        }
      ]
    },
    {
      "cell_type": "code",
      "source": [
        "print(df.columns.tolist())"
      ],
      "metadata": {
        "colab": {
          "base_uri": "https://localhost:8080/"
        },
        "id": "bDPiw3zXishd",
        "outputId": "ad31fb5f-962b-4761-b215-cbc523cfe3e3"
      },
      "execution_count": 60,
      "outputs": [
        {
          "output_type": "stream",
          "name": "stdout",
          "text": [
            "['Date', 'County', 'State', 'Vehicle Primary Use', 'Battery Electric Vehicles (BEVs)', 'Plug-In Hybrid Electric Vehicles (PHEVs)', 'Electric Vehicle (EV) Total', 'Non-Electric Vehicle Total', 'Total Vehicles', 'Percent Electric Vehicles', 'Year', 'Month', 'Quarter', 'EV_Penetration_Rate']\n"
          ]
        }
      ]
    },
    {
      "cell_type": "code",
      "source": [],
      "metadata": {
        "id": "Jmp0dhTUi1AN"
      },
      "execution_count": null,
      "outputs": []
    },
    {
      "cell_type": "code",
      "source": [
        "# 4.2 BEV vs PHEV Trends\n",
        "import matplotlib.pyplot as plt\n",
        "\n",
        "df_grouped = df.groupby('Year').sum(numeric_only=True)\n",
        "\n",
        "plt.figure(figsize=(7, 4))\n",
        "plt.plot(df_grouped.index, df_grouped['Battery Electric Vehicles (BEVs)'], label='BEVs', marker='o')\n",
        "plt.plot(df_grouped.index, df_grouped['Plug-In Hybrid Electric Vehicles (PHEVs)'], label='PHEVs', marker='o')\n",
        "plt.title('EV Adoption Trend by Model Year')\n",
        "plt.xlabel('Model Year')\n",
        "plt.ylabel('Number of Vehicles')\n",
        "plt.legend()\n",
        "plt.grid(True)\n",
        "plt.tight_layout()\n",
        "plt.show()"
      ],
      "metadata": {
        "colab": {
          "base_uri": "https://localhost:8080/",
          "height": 407
        },
        "id": "rMvMTMpRjFcf",
        "outputId": "b348aa22-1a55-431a-ef48-0169689ccdcf"
      },
      "execution_count": 63,
      "outputs": [
        {
          "output_type": "display_data",
          "data": {
            "text/plain": [
              "<Figure size 700x400 with 1 Axes>"
            ],
            "image/png": "[encoded data removed]"
          },
          "metadata": {}
        }
      ]
    }
  ]
}